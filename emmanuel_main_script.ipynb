{
  "nbformat": 4,
  "nbformat_minor": 0,
  "metadata": {
    "colab": {
      "provenance": []
    },
    "kernelspec": {
      "name": "python3",
      "display_name": "Python 3"
    },
    "language_info": {
      "name": "python"
    }
  },
  "cells": [
    {
      "cell_type": "markdown",
      "source": [
        "# **Demonstration Script**"
      ],
      "metadata": {
        "id": "oCS6x7Y3xO7N"
      }
    },
    {
      "cell_type": "code",
      "execution_count": 6,
      "metadata": {
        "colab": {
          "base_uri": "https://localhost:8080/"
        },
        "id": "SNRCoNCUxJ6I",
        "outputId": "fa644b34-0344-4875-fbbf-fcb03fa9aedb"
      },
      "outputs": [
        {
          "output_type": "stream",
          "name": "stdout",
          "text": [
            "Product Life Insurance has been created.\n",
            "Enter the name of the first policyholder: Emmanuel\n",
            "Enter the name of the second policyholder: Chisom\n",
            "Enter the name of the third policyholder: Isa\n",
            "Policyholder Emmanuel with ID 2024 has been registered.\n",
            "Product Life Insurance has been added to policyholder Emmanuel's account.\n",
            "Policyholder Chisom with ID 2025 has been registered.\n",
            "Product Life Insurance has been added to policyholder Chisom's account.\n",
            "Policyholder Isa with ID 2026 has been registered.\n",
            "Product Life Insurance has been added to policyholder Isa's account.\n",
            "Payment of 3500 for Policyholder ID 6001 has been processed.\n",
            "Payment of 3500 for Policyholder ID 7001 has been processed.\n",
            "Payment of 3500 for Policyholder ID 8001 has been processed.\n",
            "\n",
            "Policyholder 1 Details:\n",
            "Policyholder Name: Emmanuel\n",
            "Policyholder ID: 2024\n",
            "Status: active\n",
            "Products:  Life Insurance\n",
            "\n",
            "Policyholder 2 Details:\n",
            "Policyholder Name: Chisom\n",
            "Policyholder ID: 2025\n",
            "Status: active\n",
            "Products:  Life Insurance\n",
            "\n",
            "Policyholder 3 Details:\n",
            "Policyholder Name: Isa\n",
            "Policyholder ID: 2026\n",
            "Status: active\n",
            "Products:  Life Insurance\n"
          ]
        }
      ],
      "source": [
        "# Here, I am importing the classes I already created for the policy holder, product and payment\n",
        "from emmanuel_policyholder import My_Policyholder_Class\n",
        "from emmanuel_product import My_Product_Class\n",
        "from emmanuel_payment import My_Payment_Class\n",
        "\n",
        "# Here, I am creating products leveraging my product class\n",
        "product1 = My_Product_Class(product_id=1, name=\"Life Insurance\", description=\"Comprehensive life insurance\", price=3500)\n",
        "product1.create_product()\n",
        "\n",
        "# Here, I am creating dynamic policy holder Names\n",
        "name1 = input(\"Enter the name of the first policyholder: \")\n",
        "name2 = input(\"Enter the name of the second policyholder: \")\n",
        "name3 = input(\"Enter the name of the third policyholder: \")\n",
        "\n",
        "# Here, I am creating policy holders\n",
        "policyholder1 = My_Policyholder_Class(name=name1, policy_id=2024)\n",
        "policyholder1.register()\n",
        "policyholder1.add_product(product1)\n",
        "\n",
        "policyholder2 = My_Policyholder_Class(name=name2, policy_id=2025)\n",
        "policyholder2.register()\n",
        "policyholder2.add_product(product1)\n",
        "\n",
        "policyholder3 = My_Policyholder_Class(name=name3, policy_id=2026)\n",
        "policyholder3.register()\n",
        "policyholder3.add_product(product1)\n",
        "\n",
        "# Here, I am processing payments\n",
        "payment1 = My_Payment_Class(payment_id=6420, policyholder_id=6001, amount=3500, date=\"2024-08-23\")\n",
        "payment1.process_payment()\n",
        "\n",
        "payment2 = My_Payment_Class(payment_id=6421, policyholder_id=7001, amount=3500, date=\"2024-08-23\")\n",
        "payment2.process_payment()\n",
        "\n",
        "payment3 = My_Payment_Class(payment_id=6422, policyholder_id=8001, amount=3500, date=\"2024-08-23\")\n",
        "payment3.process_payment()\n",
        "\n",
        "# Here, I am displaying policyholder details\n",
        "print(\"\\nPolicyholder 1 Details:\")\n",
        "policyholder1.display_details()\n",
        "\n",
        "print(\"\\nPolicyholder 2 Details:\")\n",
        "policyholder2.display_details()\n",
        "\n",
        "print(\"\\nPolicyholder 3 Details:\")\n",
        "policyholder3.display_details()"
      ]
    },
    {
      "cell_type": "code",
      "source": [],
      "metadata": {
        "id": "_8qD5IToxVV4"
      },
      "execution_count": null,
      "outputs": []
    }
  ]
}